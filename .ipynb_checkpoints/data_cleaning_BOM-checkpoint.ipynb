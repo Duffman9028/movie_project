{
 "cells": [
  {
   "cell_type": "markdown",
   "metadata": {},
   "source": [
    "## Data Cleaning for Box Office Mojo "
   ]
  },
  {
   "cell_type": "code",
   "execution_count": 1,
   "metadata": {
    "scrolled": true
   },
   "outputs": [],
   "source": [
    "#importing pandas, creating dataframe for table from BOM\n",
    "import pandas as pd\n",
    "\n",
    "bom_df = pd.read_csv(\"zippedData/bom.movie_gross.csv.gz\", compression='gzip', thousands = ',')"
   ]
  },
  {
   "cell_type": "code",
   "execution_count": 2,
   "metadata": {
    "scrolled": true
   },
   "outputs": [
    {
     "data": {
      "text/html": [
       "<div>\n",
       "<style scoped>\n",
       "    .dataframe tbody tr th:only-of-type {\n",
       "        vertical-align: middle;\n",
       "    }\n",
       "\n",
       "    .dataframe tbody tr th {\n",
       "        vertical-align: top;\n",
       "    }\n",
       "\n",
       "    .dataframe thead th {\n",
       "        text-align: right;\n",
       "    }\n",
       "</style>\n",
       "<table border=\"1\" class=\"dataframe\">\n",
       "  <thead>\n",
       "    <tr style=\"text-align: right;\">\n",
       "      <th></th>\n",
       "      <th>title</th>\n",
       "      <th>studio</th>\n",
       "      <th>domestic_gross</th>\n",
       "      <th>foreign_gross</th>\n",
       "      <th>year</th>\n",
       "    </tr>\n",
       "  </thead>\n",
       "  <tbody>\n",
       "    <tr>\n",
       "      <th>0</th>\n",
       "      <td>Toy Story 3</td>\n",
       "      <td>BV</td>\n",
       "      <td>415000000.0</td>\n",
       "      <td>652000000.0</td>\n",
       "      <td>2010</td>\n",
       "    </tr>\n",
       "    <tr>\n",
       "      <th>1</th>\n",
       "      <td>Alice in Wonderland (2010)</td>\n",
       "      <td>BV</td>\n",
       "      <td>334200000.0</td>\n",
       "      <td>691300000.0</td>\n",
       "      <td>2010</td>\n",
       "    </tr>\n",
       "    <tr>\n",
       "      <th>2</th>\n",
       "      <td>Harry Potter and the Deathly Hallows Part 1</td>\n",
       "      <td>WB</td>\n",
       "      <td>296000000.0</td>\n",
       "      <td>664300000.0</td>\n",
       "      <td>2010</td>\n",
       "    </tr>\n",
       "    <tr>\n",
       "      <th>3</th>\n",
       "      <td>Inception</td>\n",
       "      <td>WB</td>\n",
       "      <td>292600000.0</td>\n",
       "      <td>535700000.0</td>\n",
       "      <td>2010</td>\n",
       "    </tr>\n",
       "    <tr>\n",
       "      <th>4</th>\n",
       "      <td>Shrek Forever After</td>\n",
       "      <td>P/DW</td>\n",
       "      <td>238700000.0</td>\n",
       "      <td>513900000.0</td>\n",
       "      <td>2010</td>\n",
       "    </tr>\n",
       "  </tbody>\n",
       "</table>\n",
       "</div>"
      ],
      "text/plain": [
       "                                         title studio  domestic_gross  \\\n",
       "0                                  Toy Story 3     BV     415000000.0   \n",
       "1                   Alice in Wonderland (2010)     BV     334200000.0   \n",
       "2  Harry Potter and the Deathly Hallows Part 1     WB     296000000.0   \n",
       "3                                    Inception     WB     292600000.0   \n",
       "4                          Shrek Forever After   P/DW     238700000.0   \n",
       "\n",
       "   foreign_gross  year  \n",
       "0    652000000.0  2010  \n",
       "1    691300000.0  2010  \n",
       "2    664300000.0  2010  \n",
       "3    535700000.0  2010  \n",
       "4    513900000.0  2010  "
      ]
     },
     "execution_count": 2,
     "metadata": {},
     "output_type": "execute_result"
    }
   ],
   "source": [
    "bom_df.head()"
   ]
  },
  {
   "cell_type": "code",
   "execution_count": 3,
   "metadata": {
    "scrolled": false
   },
   "outputs": [
    {
     "name": "stdout",
     "output_type": "stream",
     "text": [
      "<class 'pandas.core.frame.DataFrame'>\n",
      "RangeIndex: 3387 entries, 0 to 3386\n",
      "Data columns (total 5 columns):\n",
      " #   Column          Non-Null Count  Dtype  \n",
      "---  ------          --------------  -----  \n",
      " 0   title           3387 non-null   object \n",
      " 1   studio          3382 non-null   object \n",
      " 2   domestic_gross  3359 non-null   float64\n",
      " 3   foreign_gross   2037 non-null   float64\n",
      " 4   year            3387 non-null   int64  \n",
      "dtypes: float64(2), int64(1), object(2)\n",
      "memory usage: 132.4+ KB\n"
     ]
    }
   ],
   "source": [
    "bom_df.info()"
   ]
  },
  {
   "cell_type": "markdown",
   "metadata": {},
   "source": [
    "### Studio Null Values"
   ]
  },
  {
   "cell_type": "markdown",
   "metadata": {},
   "source": [
    "Let's deal with the studios.  First there are 5 movies with nulls for the studio column."
   ]
  },
  {
   "cell_type": "code",
   "execution_count": 4,
   "metadata": {
    "scrolled": true
   },
   "outputs": [
    {
     "data": {
      "text/html": [
       "<div>\n",
       "<style scoped>\n",
       "    .dataframe tbody tr th:only-of-type {\n",
       "        vertical-align: middle;\n",
       "    }\n",
       "\n",
       "    .dataframe tbody tr th {\n",
       "        vertical-align: top;\n",
       "    }\n",
       "\n",
       "    .dataframe thead th {\n",
       "        text-align: right;\n",
       "    }\n",
       "</style>\n",
       "<table border=\"1\" class=\"dataframe\">\n",
       "  <thead>\n",
       "    <tr style=\"text-align: right;\">\n",
       "      <th></th>\n",
       "      <th>title</th>\n",
       "      <th>studio</th>\n",
       "      <th>domestic_gross</th>\n",
       "      <th>foreign_gross</th>\n",
       "      <th>year</th>\n",
       "    </tr>\n",
       "  </thead>\n",
       "  <tbody>\n",
       "    <tr>\n",
       "      <th>210</th>\n",
       "      <td>Outside the Law (Hors-la-loi)</td>\n",
       "      <td>NaN</td>\n",
       "      <td>96900.0</td>\n",
       "      <td>3300000.0</td>\n",
       "      <td>2010</td>\n",
       "    </tr>\n",
       "    <tr>\n",
       "      <th>555</th>\n",
       "      <td>Fireflies in the Garden</td>\n",
       "      <td>NaN</td>\n",
       "      <td>70600.0</td>\n",
       "      <td>3300000.0</td>\n",
       "      <td>2011</td>\n",
       "    </tr>\n",
       "    <tr>\n",
       "      <th>933</th>\n",
       "      <td>Keith Lemon: The Film</td>\n",
       "      <td>NaN</td>\n",
       "      <td>NaN</td>\n",
       "      <td>4000000.0</td>\n",
       "      <td>2012</td>\n",
       "    </tr>\n",
       "    <tr>\n",
       "      <th>1862</th>\n",
       "      <td>Plot for Peace</td>\n",
       "      <td>NaN</td>\n",
       "      <td>7100.0</td>\n",
       "      <td>NaN</td>\n",
       "      <td>2014</td>\n",
       "    </tr>\n",
       "    <tr>\n",
       "      <th>2825</th>\n",
       "      <td>Secret Superstar</td>\n",
       "      <td>NaN</td>\n",
       "      <td>NaN</td>\n",
       "      <td>122000000.0</td>\n",
       "      <td>2017</td>\n",
       "    </tr>\n",
       "  </tbody>\n",
       "</table>\n",
       "</div>"
      ],
      "text/plain": [
       "                              title studio  domestic_gross  foreign_gross  \\\n",
       "210   Outside the Law (Hors-la-loi)    NaN         96900.0      3300000.0   \n",
       "555         Fireflies in the Garden    NaN         70600.0      3300000.0   \n",
       "933           Keith Lemon: The Film    NaN             NaN      4000000.0   \n",
       "1862                 Plot for Peace    NaN          7100.0            NaN   \n",
       "2825               Secret Superstar    NaN             NaN    122000000.0   \n",
       "\n",
       "      year  \n",
       "210   2010  \n",
       "555   2011  \n",
       "933   2012  \n",
       "1862  2014  \n",
       "2825  2017  "
      ]
     },
     "execution_count": 4,
     "metadata": {},
     "output_type": "execute_result"
    }
   ],
   "source": [
    "bom_df[bom_df.studio.isna()]"
   ]
  },
  {
   "cell_type": "markdown",
   "metadata": {},
   "source": [
    "We'll get the studios for these online and impute them.  We want to check if there's movies that have those studios and if there is an abbrevation already in use. "
   ]
  },
  {
   "cell_type": "code",
   "execution_count": 5,
   "metadata": {
    "scrolled": true
   },
   "outputs": [
    {
     "data": {
      "text/plain": [
       "SPC           123\n",
       "Sony          110\n",
       "Strand         68\n",
       "SGem           35\n",
       "STX            24\n",
       "Sum.           15\n",
       "Scre.          11\n",
       "SM              4\n",
       "SD              4\n",
       "Shout!          3\n",
       "SV              2\n",
       "Studio 8        2\n",
       "Super           2\n",
       "Swen            1\n",
       "Spanglish       1\n",
       "SEA             1\n",
       "Saban           1\n",
       "Synergetic      1\n",
       "SEG             1\n",
       "SHO             1\n",
       "SDS             1\n",
       "SMod            1\n",
       "Name: studio, dtype: int64"
      ]
     },
     "execution_count": 5,
     "metadata": {},
     "output_type": "execute_result"
    }
   ],
   "source": [
    "#the studio for \"Outside the Law\" is StudioCanal\n",
    "bom_df.studio[bom_df.studio.str.startswith(('s','S'), na=False)].value_counts()"
   ]
  },
  {
   "cell_type": "markdown",
   "metadata": {},
   "source": [
    "None of these look like StudioCanal. "
   ]
  },
  {
   "cell_type": "code",
   "execution_count": 6,
   "metadata": {
    "scrolled": true
   },
   "outputs": [
    {
     "name": "stderr",
     "output_type": "stream",
     "text": [
      "<ipython-input-6-5d659bf7e339>:2: SettingWithCopyWarning: \n",
      "A value is trying to be set on a copy of a slice from a DataFrame\n",
      "\n",
      "See the caveats in the documentation: https://pandas.pydata.org/pandas-docs/stable/user_guide/indexing.html#returning-a-view-versus-a-copy\n",
      "  bom_df.studio[210] = 'StudioCanal'\n"
     ]
    }
   ],
   "source": [
    "#Imputing StudioCanal for that one.\n",
    "bom_df.studio[210] = 'StudioCanal'"
   ]
  },
  {
   "cell_type": "code",
   "execution_count": 7,
   "metadata": {
    "scrolled": true
   },
   "outputs": [
    {
     "data": {
      "text/plain": [
       "title             Outside the Law (Hors-la-loi)\n",
       "studio                              StudioCanal\n",
       "domestic_gross                            96900\n",
       "foreign_gross                           3.3e+06\n",
       "year                                       2010\n",
       "Name: 210, dtype: object"
      ]
     },
     "execution_count": 7,
     "metadata": {},
     "output_type": "execute_result"
    }
   ],
   "source": [
    "bom_df.loc[210]"
   ]
  },
  {
   "cell_type": "code",
   "execution_count": 8,
   "metadata": {
    "scrolled": false
   },
   "outputs": [
    {
     "name": "stderr",
     "output_type": "stream",
     "text": [
      "<ipython-input-8-7afb6e0c77dd>:2: SettingWithCopyWarning: \n",
      "A value is trying to be set on a copy of a slice from a DataFrame\n",
      "\n",
      "See the caveats in the documentation: https://pandas.pydata.org/pandas-docs/stable/user_guide/indexing.html#returning-a-view-versus-a-copy\n",
      "  bom_df.studio[555]= 'SEI'\n"
     ]
    },
    {
     "data": {
      "text/plain": [
       "title             Fireflies in the Garden\n",
       "studio                                SEI\n",
       "domestic_gross                      70600\n",
       "foreign_gross                     3.3e+06\n",
       "year                                 2011\n",
       "Name: 555, dtype: object"
      ]
     },
     "execution_count": 8,
     "metadata": {},
     "output_type": "execute_result"
    }
   ],
   "source": [
    "#The studio for Fireflies in the Garden is Senator Entertainment Inc.  We'll call this 'SEI'\n",
    "bom_df.studio[555]= 'SEI'\n",
    "bom_df.loc[555]"
   ]
  },
  {
   "cell_type": "code",
   "execution_count": 9,
   "metadata": {
    "scrolled": true
   },
   "outputs": [
    {
     "data": {
      "text/plain": [
       "LGF      103\n",
       "LG/S      41\n",
       "Lorb.     11\n",
       "LGP        6\n",
       "LD         3\n",
       "Linn       1\n",
       "Libre      1\n",
       "Name: studio, dtype: int64"
      ]
     },
     "execution_count": 9,
     "metadata": {},
     "output_type": "execute_result"
    }
   ],
   "source": [
    "#The studio for Keith Lemon is Lionsgate.\n",
    "bom_df.studio[bom_df.studio.str.startswith(('L','l'),na=False)].value_counts()"
   ]
  },
  {
   "cell_type": "code",
   "execution_count": 10,
   "metadata": {
    "scrolled": true
   },
   "outputs": [
    {
     "data": {
      "text/html": [
       "<div>\n",
       "<style scoped>\n",
       "    .dataframe tbody tr th:only-of-type {\n",
       "        vertical-align: middle;\n",
       "    }\n",
       "\n",
       "    .dataframe tbody tr th {\n",
       "        vertical-align: top;\n",
       "    }\n",
       "\n",
       "    .dataframe thead th {\n",
       "        text-align: right;\n",
       "    }\n",
       "</style>\n",
       "<table border=\"1\" class=\"dataframe\">\n",
       "  <thead>\n",
       "    <tr style=\"text-align: right;\">\n",
       "      <th></th>\n",
       "      <th>title</th>\n",
       "      <th>studio</th>\n",
       "      <th>domestic_gross</th>\n",
       "      <th>foreign_gross</th>\n",
       "      <th>year</th>\n",
       "    </tr>\n",
       "  </thead>\n",
       "  <tbody>\n",
       "    <tr>\n",
       "      <th>26</th>\n",
       "      <td>The Expendables</td>\n",
       "      <td>LGF</td>\n",
       "      <td>103100000.0</td>\n",
       "      <td>171400000.0</td>\n",
       "      <td>2010</td>\n",
       "    </tr>\n",
       "    <tr>\n",
       "      <th>51</th>\n",
       "      <td>Saw 3D</td>\n",
       "      <td>LGF</td>\n",
       "      <td>45700000.0</td>\n",
       "      <td>90400000.0</td>\n",
       "      <td>2010</td>\n",
       "    </tr>\n",
       "    <tr>\n",
       "      <th>64</th>\n",
       "      <td>Killers</td>\n",
       "      <td>LGF</td>\n",
       "      <td>47100000.0</td>\n",
       "      <td>51100000.0</td>\n",
       "      <td>2010</td>\n",
       "    </tr>\n",
       "    <tr>\n",
       "      <th>65</th>\n",
       "      <td>Kick-Ass</td>\n",
       "      <td>LGF</td>\n",
       "      <td>48100000.0</td>\n",
       "      <td>48100000.0</td>\n",
       "      <td>2010</td>\n",
       "    </tr>\n",
       "    <tr>\n",
       "      <th>87</th>\n",
       "      <td>The Last Exorcism</td>\n",
       "      <td>LGF</td>\n",
       "      <td>41000000.0</td>\n",
       "      <td>26700000.0</td>\n",
       "      <td>2010</td>\n",
       "    </tr>\n",
       "    <tr>\n",
       "      <th>...</th>\n",
       "      <td>...</td>\n",
       "      <td>...</td>\n",
       "      <td>...</td>\n",
       "      <td>...</td>\n",
       "      <td>...</td>\n",
       "    </tr>\n",
       "    <tr>\n",
       "      <th>3207</th>\n",
       "      <td>Hell Fest</td>\n",
       "      <td>LGF</td>\n",
       "      <td>11100000.0</td>\n",
       "      <td>7100000.0</td>\n",
       "      <td>2018</td>\n",
       "    </tr>\n",
       "    <tr>\n",
       "      <th>3229</th>\n",
       "      <td>Kin</td>\n",
       "      <td>LGF</td>\n",
       "      <td>5700000.0</td>\n",
       "      <td>4300000.0</td>\n",
       "      <td>2018</td>\n",
       "    </tr>\n",
       "    <tr>\n",
       "      <th>3231</th>\n",
       "      <td>Traffik</td>\n",
       "      <td>LGF</td>\n",
       "      <td>9200000.0</td>\n",
       "      <td>336000.0</td>\n",
       "      <td>2018</td>\n",
       "    </tr>\n",
       "    <tr>\n",
       "      <th>3235</th>\n",
       "      <td>Condorito: La Pelicula</td>\n",
       "      <td>LGF</td>\n",
       "      <td>448000.0</td>\n",
       "      <td>8000000.0</td>\n",
       "      <td>2018</td>\n",
       "    </tr>\n",
       "    <tr>\n",
       "      <th>3275</th>\n",
       "      <td>I Still See You</td>\n",
       "      <td>LGF</td>\n",
       "      <td>1400.0</td>\n",
       "      <td>1500000.0</td>\n",
       "      <td>2018</td>\n",
       "    </tr>\n",
       "  </tbody>\n",
       "</table>\n",
       "<p>103 rows × 5 columns</p>\n",
       "</div>"
      ],
      "text/plain": [
       "                       title studio  domestic_gross  foreign_gross  year\n",
       "26           The Expendables    LGF     103100000.0    171400000.0  2010\n",
       "51                    Saw 3D    LGF      45700000.0     90400000.0  2010\n",
       "64                   Killers    LGF      47100000.0     51100000.0  2010\n",
       "65                  Kick-Ass    LGF      48100000.0     48100000.0  2010\n",
       "87         The Last Exorcism    LGF      41000000.0     26700000.0  2010\n",
       "...                      ...    ...             ...            ...   ...\n",
       "3207               Hell Fest    LGF      11100000.0      7100000.0  2018\n",
       "3229                     Kin    LGF       5700000.0      4300000.0  2018\n",
       "3231                 Traffik    LGF       9200000.0       336000.0  2018\n",
       "3235  Condorito: La Pelicula    LGF        448000.0      8000000.0  2018\n",
       "3275         I Still See You    LGF          1400.0      1500000.0  2018\n",
       "\n",
       "[103 rows x 5 columns]"
      ]
     },
     "execution_count": 10,
     "metadata": {},
     "output_type": "execute_result"
    }
   ],
   "source": [
    "bom_df[bom_df.studio == 'LGF']"
   ]
  },
  {
   "cell_type": "code",
   "execution_count": 11,
   "metadata": {
    "scrolled": true
   },
   "outputs": [
    {
     "name": "stderr",
     "output_type": "stream",
     "text": [
      "<ipython-input-11-48111826a785>:3: SettingWithCopyWarning: \n",
      "A value is trying to be set on a copy of a slice from a DataFrame\n",
      "\n",
      "See the caveats in the documentation: https://pandas.pydata.org/pandas-docs/stable/user_guide/indexing.html#returning-a-view-versus-a-copy\n",
      "  bom_df.studio[933]= 'LGF'\n"
     ]
    },
    {
     "data": {
      "text/plain": [
       "title             Keith Lemon: The Film\n",
       "studio                              LGF\n",
       "domestic_gross                      NaN\n",
       "foreign_gross                     4e+06\n",
       "year                               2012\n",
       "Name: 933, dtype: object"
      ]
     },
     "execution_count": 11,
     "metadata": {},
     "output_type": "execute_result"
    }
   ],
   "source": [
    "#Looks like Keith Lemon's studio is Lionsgate, which apparently is 'LGF', among other abbreviations.\n",
    "#Imputing LGF\n",
    "bom_df.studio[933]= 'LGF'\n",
    "bom_df.loc[933]\n"
   ]
  },
  {
   "cell_type": "code",
   "execution_count": 12,
   "metadata": {
    "scrolled": true
   },
   "outputs": [
    {
     "data": {
      "text/plain": [
       "IFC       166\n",
       "IM          5\n",
       "Icar.       4\n",
       "Imag.       4\n",
       "Imax        3\n",
       "ICir        2\n",
       "ITL         1\n",
       "Indic.      1\n",
       "IW          1\n",
       "IVP         1\n",
       "Name: studio, dtype: int64"
      ]
     },
     "execution_count": 12,
     "metadata": {},
     "output_type": "execute_result"
    }
   ],
   "source": [
    "#Looking into Plot for Peace, which has studio Indelible Media\n",
    "bom_df.studio[bom_df.studio.str.startswith(('I','i'),na=False)].value_counts()"
   ]
  },
  {
   "cell_type": "code",
   "execution_count": 13,
   "metadata": {
    "scrolled": true
   },
   "outputs": [
    {
     "data": {
      "text/html": [
       "<div>\n",
       "<style scoped>\n",
       "    .dataframe tbody tr th:only-of-type {\n",
       "        vertical-align: middle;\n",
       "    }\n",
       "\n",
       "    .dataframe tbody tr th {\n",
       "        vertical-align: top;\n",
       "    }\n",
       "\n",
       "    .dataframe thead th {\n",
       "        text-align: right;\n",
       "    }\n",
       "</style>\n",
       "<table border=\"1\" class=\"dataframe\">\n",
       "  <thead>\n",
       "    <tr style=\"text-align: right;\">\n",
       "      <th></th>\n",
       "      <th>title</th>\n",
       "      <th>studio</th>\n",
       "      <th>domestic_gross</th>\n",
       "      <th>foreign_gross</th>\n",
       "      <th>year</th>\n",
       "    </tr>\n",
       "  </thead>\n",
       "  <tbody>\n",
       "    <tr>\n",
       "      <th>432</th>\n",
       "      <td>Detective Dee and the Mystery of the Phantom F...</td>\n",
       "      <td>IM</td>\n",
       "      <td>460000.0</td>\n",
       "      <td>51300000.0</td>\n",
       "      <td>2011</td>\n",
       "    </tr>\n",
       "    <tr>\n",
       "      <th>961</th>\n",
       "      <td>The Imposter</td>\n",
       "      <td>IM</td>\n",
       "      <td>898000.0</td>\n",
       "      <td>1100000.0</td>\n",
       "      <td>2012</td>\n",
       "    </tr>\n",
       "    <tr>\n",
       "      <th>1006</th>\n",
       "      <td>Holy Motors</td>\n",
       "      <td>IM</td>\n",
       "      <td>641000.0</td>\n",
       "      <td>NaN</td>\n",
       "      <td>2012</td>\n",
       "    </tr>\n",
       "    <tr>\n",
       "      <th>1028</th>\n",
       "      <td>Something From Nothing: The Art of Rap</td>\n",
       "      <td>IM</td>\n",
       "      <td>288000.0</td>\n",
       "      <td>NaN</td>\n",
       "      <td>2012</td>\n",
       "    </tr>\n",
       "    <tr>\n",
       "      <th>1048</th>\n",
       "      <td>Flying Swords of Dragon Gate</td>\n",
       "      <td>IM</td>\n",
       "      <td>170000.0</td>\n",
       "      <td>NaN</td>\n",
       "      <td>2012</td>\n",
       "    </tr>\n",
       "  </tbody>\n",
       "</table>\n",
       "</div>"
      ],
      "text/plain": [
       "                                                  title studio  \\\n",
       "432   Detective Dee and the Mystery of the Phantom F...     IM   \n",
       "961                                        The Imposter     IM   \n",
       "1006                                        Holy Motors     IM   \n",
       "1028             Something From Nothing: The Art of Rap     IM   \n",
       "1048                       Flying Swords of Dragon Gate     IM   \n",
       "\n",
       "      domestic_gross  foreign_gross  year  \n",
       "432         460000.0     51300000.0  2011  \n",
       "961         898000.0      1100000.0  2012  \n",
       "1006        641000.0            NaN  2012  \n",
       "1028        288000.0            NaN  2012  \n",
       "1048        170000.0            NaN  2012  "
      ]
     },
     "execution_count": 13,
     "metadata": {},
     "output_type": "execute_result"
    }
   ],
   "source": [
    "bom_df[bom_df.studio=='IM']"
   ]
  },
  {
   "cell_type": "code",
   "execution_count": 14,
   "metadata": {
    "scrolled": true
   },
   "outputs": [
    {
     "name": "stderr",
     "output_type": "stream",
     "text": [
      "<ipython-input-14-2521e4120a6e>:3: SettingWithCopyWarning: \n",
      "A value is trying to be set on a copy of a slice from a DataFrame\n",
      "\n",
      "See the caveats in the documentation: https://pandas.pydata.org/pandas-docs/stable/user_guide/indexing.html#returning-a-view-versus-a-copy\n",
      "  bom_df.studio[1862]= 'IndM'\n"
     ]
    },
    {
     "data": {
      "text/plain": [
       "title             Plot for Peace\n",
       "studio                      IndM\n",
       "domestic_gross              7100\n",
       "foreign_gross                NaN\n",
       "year                        2014\n",
       "Name: 1862, dtype: object"
      ]
     },
     "execution_count": 14,
     "metadata": {},
     "output_type": "execute_result"
    }
   ],
   "source": [
    "#There are apparently no other movies with Indelible Media as the studio. 'IM' is something else.\n",
    "#Imputing...\n",
    "bom_df.studio[1862]= 'IndM'\n",
    "bom_df.loc[1862]\n",
    "\n"
   ]
  },
  {
   "cell_type": "code",
   "execution_count": 15,
   "metadata": {
    "scrolled": true
   },
   "outputs": [
    {
     "data": {
      "text/plain": [
       "Zeit.    16\n",
       "Zee       1\n",
       "Name: studio, dtype: int64"
      ]
     },
     "execution_count": 15,
     "metadata": {},
     "output_type": "execute_result"
    }
   ],
   "source": [
    "#Secret Superstar has studio 'Zee Studios'.  Any other movies from this studio?\n",
    "bom_df.studio[bom_df.studio.str.startswith(('z','Z'),na=False)].value_counts()"
   ]
  },
  {
   "cell_type": "code",
   "execution_count": 16,
   "metadata": {
    "scrolled": true
   },
   "outputs": [
    {
     "data": {
      "text/html": [
       "<div>\n",
       "<style scoped>\n",
       "    .dataframe tbody tr th:only-of-type {\n",
       "        vertical-align: middle;\n",
       "    }\n",
       "\n",
       "    .dataframe tbody tr th {\n",
       "        vertical-align: top;\n",
       "    }\n",
       "\n",
       "    .dataframe thead th {\n",
       "        text-align: right;\n",
       "    }\n",
       "</style>\n",
       "<table border=\"1\" class=\"dataframe\">\n",
       "  <thead>\n",
       "    <tr style=\"text-align: right;\">\n",
       "      <th></th>\n",
       "      <th>title</th>\n",
       "      <th>studio</th>\n",
       "      <th>domestic_gross</th>\n",
       "      <th>foreign_gross</th>\n",
       "      <th>year</th>\n",
       "    </tr>\n",
       "  </thead>\n",
       "  <tbody>\n",
       "    <tr>\n",
       "      <th>2556</th>\n",
       "      <td>Rustom</td>\n",
       "      <td>Zee</td>\n",
       "      <td>1100000.0</td>\n",
       "      <td>571000.0</td>\n",
       "      <td>2016</td>\n",
       "    </tr>\n",
       "  </tbody>\n",
       "</table>\n",
       "</div>"
      ],
      "text/plain": [
       "       title studio  domestic_gross  foreign_gross  year\n",
       "2556  Rustom    Zee       1100000.0       571000.0  2016"
      ]
     },
     "execution_count": 16,
     "metadata": {},
     "output_type": "execute_result"
    }
   ],
   "source": [
    "bom_df[bom_df.studio=='Zee']"
   ]
  },
  {
   "cell_type": "code",
   "execution_count": 17,
   "metadata": {
    "scrolled": true
   },
   "outputs": [
    {
     "name": "stderr",
     "output_type": "stream",
     "text": [
      "<ipython-input-17-b2e3931f84a9>:2: SettingWithCopyWarning: \n",
      "A value is trying to be set on a copy of a slice from a DataFrame\n",
      "\n",
      "See the caveats in the documentation: https://pandas.pydata.org/pandas-docs/stable/user_guide/indexing.html#returning-a-view-versus-a-copy\n",
      "  bom_df.studio[2825]= 'Zee'\n"
     ]
    },
    {
     "data": {
      "text/plain": [
       "title             Secret Superstar\n",
       "studio                         Zee\n",
       "domestic_gross                 NaN\n",
       "foreign_gross             1.22e+08\n",
       "year                          2017\n",
       "Name: 2825, dtype: object"
      ]
     },
     "execution_count": 17,
     "metadata": {},
     "output_type": "execute_result"
    }
   ],
   "source": [
    "#There is another movie with studio \"Zee Studios International\".  Close enough, we'll impute \"Zee\".\n",
    "bom_df.studio[2825]= 'Zee'\n",
    "bom_df.loc[2825]\n",
    "\n"
   ]
  },
  {
   "cell_type": "code",
   "execution_count": 18,
   "metadata": {
    "scrolled": false
   },
   "outputs": [
    {
     "name": "stdout",
     "output_type": "stream",
     "text": [
      "<class 'pandas.core.frame.DataFrame'>\n",
      "RangeIndex: 3387 entries, 0 to 3386\n",
      "Data columns (total 5 columns):\n",
      " #   Column          Non-Null Count  Dtype  \n",
      "---  ------          --------------  -----  \n",
      " 0   title           3387 non-null   object \n",
      " 1   studio          3387 non-null   object \n",
      " 2   domestic_gross  3359 non-null   float64\n",
      " 3   foreign_gross   2037 non-null   float64\n",
      " 4   year            3387 non-null   int64  \n",
      "dtypes: float64(2), int64(1), object(2)\n",
      "memory usage: 132.4+ KB\n"
     ]
    }
   ],
   "source": [
    "bom_df.info()"
   ]
  },
  {
   "cell_type": "markdown",
   "metadata": {},
   "source": [
    "So no more nulls in the studio column!"
   ]
  },
  {
   "cell_type": "markdown",
   "metadata": {},
   "source": [
    "### Duplicates in Studio Columns"
   ]
  },
  {
   "cell_type": "code",
   "execution_count": 19,
   "metadata": {
    "scrolled": true
   },
   "outputs": [
    {
     "data": {
      "text/plain": [
       "IFC         166\n",
       "Uni.        147\n",
       "WB          140\n",
       "Fox         136\n",
       "Magn.       136\n",
       "SPC         123\n",
       "Sony        110\n",
       "BV          106\n",
       "LGF         104\n",
       "Par.        101\n",
       "Eros         89\n",
       "Wein.        77\n",
       "CL           74\n",
       "Strand       68\n",
       "FoxS         67\n",
       "RAtt.        66\n",
       "KL           62\n",
       "Focus        60\n",
       "WGUSA        58\n",
       "CJ           56\n",
       "MBox         54\n",
       "UTV          50\n",
       "A24          49\n",
       "WB (NL)      45\n",
       "FM           42\n",
       "LG/S         41\n",
       "Cohen        40\n",
       "ORF          37\n",
       "Rela.        35\n",
       "SGem         35\n",
       "FIP          26\n",
       "STX          24\n",
       "Gold.        24\n",
       "GK           24\n",
       "TriS         23\n",
       "RTWC         23\n",
       "Osci.        23\n",
       "BST          22\n",
       "MNE          22\n",
       "EOne         21\n",
       "Distrib.     20\n",
       "Drft.        20\n",
       "Relbig.      18\n",
       "Anch.        18\n",
       "CBS          17\n",
       "Zeit.        16\n",
       "BG           16\n",
       "Sum.         15\n",
       "Yash         14\n",
       "FD           14\n",
       "Trib.        14\n",
       "W/Dim.       14\n",
       "Orch.        13\n",
       "FUN          12\n",
       "Free         12\n",
       "Name: studio, dtype: int64"
      ]
     },
     "execution_count": 19,
     "metadata": {},
     "output_type": "execute_result"
    }
   ],
   "source": [
    "bom_df.studio.value_counts().head(55)"
   ]
  },
  {
   "cell_type": "markdown",
   "metadata": {},
   "source": [
    "We've identified a few duplicates that occur a lot by checking for similar studio names and researching online.  Let's replace the secondary duplicate names with the primary so they have the same studio name. "
   ]
  },
  {
   "cell_type": "code",
   "execution_count": 20,
   "metadata": {},
   "outputs": [],
   "source": [
    "#dictionary with replacement keys\n",
    "studio_dict = {\"WB (NL)\":'WB', 'FoxS':'Fox', \"Sony\":'SPC', \"LG/S\":\"LGF\"}\n",
    "\n",
    "#using the dictionary to perform the replacement\n",
    "bom_df.studio.replace(studio_dict, inplace=True)"
   ]
  },
  {
   "cell_type": "code",
   "execution_count": 21,
   "metadata": {},
   "outputs": [
    {
     "data": {
      "text/plain": [
       "SPC       233\n",
       "Fox       203\n",
       "WB        185\n",
       "IFC       166\n",
       "Uni.      147\n",
       "LGF       145\n",
       "Magn.     136\n",
       "BV        106\n",
       "Par.      101\n",
       "Eros       89\n",
       "Wein.      77\n",
       "CL         74\n",
       "Strand     68\n",
       "RAtt.      66\n",
       "KL         62\n",
       "Focus      60\n",
       "WGUSA      58\n",
       "CJ         56\n",
       "MBox       54\n",
       "UTV        50\n",
       "Name: studio, dtype: int64"
      ]
     },
     "execution_count": 21,
     "metadata": {},
     "output_type": "execute_result"
    }
   ],
   "source": [
    "bom_df.studio.value_counts().head(20)"
   ]
  },
  {
   "cell_type": "markdown",
   "metadata": {},
   "source": [
    "### Replacing null values in gross columns with 0\n",
    "\n",
    "Since there are no movies that have null for both foreign and domestic gross, it is probable that null values represent movies that are ONLY domestic or ONLY foreign.  Therefore, the null value represents $0"
   ]
  },
  {
   "cell_type": "code",
   "execution_count": 22,
   "metadata": {},
   "outputs": [
    {
     "name": "stdout",
     "output_type": "stream",
     "text": [
      "<class 'pandas.core.frame.DataFrame'>\n",
      "RangeIndex: 3387 entries, 0 to 3386\n",
      "Data columns (total 5 columns):\n",
      " #   Column          Non-Null Count  Dtype  \n",
      "---  ------          --------------  -----  \n",
      " 0   title           3387 non-null   object \n",
      " 1   studio          3387 non-null   object \n",
      " 2   domestic_gross  3359 non-null   float64\n",
      " 3   foreign_gross   2037 non-null   float64\n",
      " 4   year            3387 non-null   int64  \n",
      "dtypes: float64(2), int64(1), object(2)\n",
      "memory usage: 132.4+ KB\n"
     ]
    }
   ],
   "source": [
    "bom_df.info()"
   ]
  },
  {
   "cell_type": "code",
   "execution_count": 23,
   "metadata": {},
   "outputs": [],
   "source": [
    "bom_df.domestic_gross.fillna(value=0, inplace=True)"
   ]
  },
  {
   "cell_type": "code",
   "execution_count": 24,
   "metadata": {},
   "outputs": [
    {
     "name": "stdout",
     "output_type": "stream",
     "text": [
      "<class 'pandas.core.frame.DataFrame'>\n",
      "RangeIndex: 3387 entries, 0 to 3386\n",
      "Data columns (total 5 columns):\n",
      " #   Column          Non-Null Count  Dtype  \n",
      "---  ------          --------------  -----  \n",
      " 0   title           3387 non-null   object \n",
      " 1   studio          3387 non-null   object \n",
      " 2   domestic_gross  3387 non-null   float64\n",
      " 3   foreign_gross   2037 non-null   float64\n",
      " 4   year            3387 non-null   int64  \n",
      "dtypes: float64(2), int64(1), object(2)\n",
      "memory usage: 132.4+ KB\n"
     ]
    }
   ],
   "source": [
    "bom_df.info()"
   ]
  },
  {
   "cell_type": "code",
   "execution_count": 25,
   "metadata": {},
   "outputs": [],
   "source": [
    "bom_df.foreign_gross.fillna(value=0, inplace=True)"
   ]
  },
  {
   "cell_type": "code",
   "execution_count": 26,
   "metadata": {},
   "outputs": [
    {
     "name": "stdout",
     "output_type": "stream",
     "text": [
      "<class 'pandas.core.frame.DataFrame'>\n",
      "RangeIndex: 3387 entries, 0 to 3386\n",
      "Data columns (total 5 columns):\n",
      " #   Column          Non-Null Count  Dtype  \n",
      "---  ------          --------------  -----  \n",
      " 0   title           3387 non-null   object \n",
      " 1   studio          3387 non-null   object \n",
      " 2   domestic_gross  3387 non-null   float64\n",
      " 3   foreign_gross   3387 non-null   float64\n",
      " 4   year            3387 non-null   int64  \n",
      "dtypes: float64(2), int64(1), object(2)\n",
      "memory usage: 132.4+ KB\n"
     ]
    }
   ],
   "source": [
    "bom_df.info()"
   ]
  },
  {
   "cell_type": "markdown",
   "metadata": {},
   "source": [
    "### Creating Total Gross Column"
   ]
  },
  {
   "cell_type": "code",
   "execution_count": 27,
   "metadata": {
    "scrolled": true
   },
   "outputs": [],
   "source": [
    "#Adding \"total_gross\" column, equal to sum of domestic and foreign gross.\n",
    "bom_df[\"total_gross\"] = bom_df[\"domestic_gross\"] + bom_df[\"foreign_gross\"]"
   ]
  },
  {
   "cell_type": "code",
   "execution_count": 28,
   "metadata": {
    "scrolled": true
   },
   "outputs": [
    {
     "name": "stdout",
     "output_type": "stream",
     "text": [
      "<class 'pandas.core.frame.DataFrame'>\n",
      "RangeIndex: 3387 entries, 0 to 3386\n",
      "Data columns (total 6 columns):\n",
      " #   Column          Non-Null Count  Dtype  \n",
      "---  ------          --------------  -----  \n",
      " 0   title           3387 non-null   object \n",
      " 1   studio          3387 non-null   object \n",
      " 2   domestic_gross  3387 non-null   float64\n",
      " 3   foreign_gross   3387 non-null   float64\n",
      " 4   year            3387 non-null   int64  \n",
      " 5   total_gross     3387 non-null   float64\n",
      "dtypes: float64(3), int64(1), object(2)\n",
      "memory usage: 158.9+ KB\n"
     ]
    }
   ],
   "source": [
    "bom_df.info()"
   ]
  },
  {
   "cell_type": "code",
   "execution_count": null,
   "metadata": {},
   "outputs": [],
   "source": []
  }
 ],
 "metadata": {
  "kernelspec": {
   "display_name": "Python (learn-env)",
   "language": "python",
   "name": "learn-env"
  },
  "language_info": {
   "codemirror_mode": {
    "name": "ipython",
    "version": 3
   },
   "file_extension": ".py",
   "mimetype": "text/x-python",
   "name": "python",
   "nbconvert_exporter": "python",
   "pygments_lexer": "ipython3",
   "version": "3.8.5"
  }
 },
 "nbformat": 4,
 "nbformat_minor": 4
}
